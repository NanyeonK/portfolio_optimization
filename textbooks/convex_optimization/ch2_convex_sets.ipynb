{
 "cells": [
  {
   "cell_type": "markdown",
   "metadata": {},
   "source": [
    "# Convex sets"
   ]
  },
  {
   "cell_type": "markdown",
   "metadata": {},
   "source": [
    "* Affine sets\n",
    "* Convex sets\n",
    "* Convex combinations\n",
    "* Convex hull\n",
    "* Convex cone\n",
    "* Hyperplanes\n",
    "* Halfspaces\n",
    "* Euclidean balls\n",
    "* Ellipsoids\n",
    "* Norm balls\n",
    "* Norm cones\n"
   ]
  },
  {
   "cell_type": "markdown",
   "metadata": {},
   "source": [
    "Affine sets\n"
   ]
  },
  {
   "cell_type": "markdown",
   "metadata": {},
   "source": [
    "* Convex sets   \n",
    "    If set $C$ is convex, then for $\\forall x_1, x_2 \\in C$ and $ \\forall \\theta \\in [0,1]$, we have $\\theta x_1 + (1-\\theta)x_2 \\in C$."
   ]
  },
  {
   "cell_type": "markdown",
   "metadata": {},
   "source": [
    "* Convex Combinations\n",
    "    A convex combination of points $x_1, x_2, \\ldots, x_k$ is a point of the form $\\theta_1 x_1 + \\theta_2 x_2 + \\ldots + \\theta_k x_k$ where $\\theta_1, \\theta_2, \\ldots, \\theta_k \\geq 0$ and $\\theta_1 + \\theta_2 + \\ldots + \\theta_k = 1$."
   ]
  },
  {
   "cell_type": "markdown",
   "metadata": {},
   "source": [
    "* Convex hull   \n",
    "    The convex hull of a set $S$ is the set of all convex combinations of points in $S$.   \n",
    "    It is same as the smallest convex set containing $S$."
   ]
  },
  {
   "cell_type": "markdown",
   "metadata": {},
   "source": [
    "* Convex Cone   \n",
    "    A set $C$ is a convex cone if for $\\forall x_1, x_2 \\in C$ and $\\forall \\theta_1, \\theta_2 \\geq 0$, we have $\\theta_1 x_1 + \\theta_2 x_2 \\in C$."
   ]
  },
  {
   "cell_type": "markdown",
   "metadata": {},
   "source": [
    "* Hyperplane   \n",
    "    A hyperplane is the set $\\{x | a^Tx = b\\}$ where $a \\neq 0$."
   ]
  },
  {
   "cell_type": "markdown",
   "metadata": {},
   "source": [
    "* Halfspace   \n",
    "    A halfspace is the set $\\{x | a^Tx \\leq b\\}$ (a \\neq 0)."
   ]
  },
  {
   "cell_type": "markdown",
   "metadata": {},
   "source": [
    "* Uclidean ball   \n",
    "    A Euclidean ball is the set $\\{x | \\ \\|x - v\\|_2 \\leq r\\}$."
   ]
  },
  {
   "cell_type": "markdown",
   "metadata": {},
   "source": [
    "* Ellipsoid   \n",
    "    An ellipsoid is the set $\\{x | (x - v)^TP^{-1}(x - v) \\leq 1\\}$   \n",
    "    where $P \\in S_{++}^n$($P$ is symmetric and positive definite)."
   ]
  },
  {
   "cell_type": "markdown",
   "metadata": {},
   "source": [
    "* Norm Ball   \n",
    "    A norm ball is the set $\\{x | \\|x - v\\| \\leq \\alpha\\}$.   \n",
    "    * A function $\\| \\cdot \\|$ is a norm if for\n",
    "        * $\\|x\\| \\geq 0$, $\\|x\\| = 0$ if and only if $x = 0$, \n",
    "        * $\\|\\theta x\\| = |\\theta|\\|x\\|$\n",
    "        * $\\|x + y\\| \\leq \\|x\\| + \\|y\\|$.\n",
    "    * $\\| \\cdot \\|$ is general form\n",
    "    * $\\| \\cdot \\|_{symbol}$ is particular form\n",
    "        * $\\| \\cdot \\|_{2}$ is Euclidean norm\n",
    "        * $\\| \\cdot \\|_{1}$ is 1-norm\n",
    "        * $\\| \\cdot \\|_{\\infty}$ is $\\infty$-norm"
   ]
  },
  {
   "cell_type": "markdown",
   "metadata": {},
   "source": [
    "* Norm Cone\n",
    "    A norm cone is the set $\\{(x, t) \\ | \\  \\|x\\| \\leq t\\}$."
   ]
  },
  {
   "cell_type": "markdown",
   "metadata": {},
   "source": [
    "* Polyherdon (polyhedra)   \n",
    "    Type of Convex set.   \n",
    "    In geometry, a polyhedron is a solid in three dimensions with flat polygonal faces, straight edges and sharp corners or vertices.   \n",
    "    In algebra, a polyhedron is a bounded intersection of finitely many halfspaces and hyperplanes.   \n",
    "    Polyhedron is $P = \\{x \\ | \\ a_i^Tx \\leq b_i, i = 1, \\ldots, m, c_i^Tx = d_i, i = 1, \\ldots, p\\}$   \n",
    "    where $a_i \\in \\mathbb{R}^n, b_i \\in \\mathbb{R}, c_i \\in \\mathbb{R}^n, d_i \\in \\mathbb{R}$.   \n",
    "\n",
    "    Intuitively, polyhedron is the set of all solutions defined by a finite number of linear equalities and inequalities.   \n",
    "\n",
    "    * Properties\n",
    "        * Convex\n",
    "        * Closed\n",
    "        * Piecewise flat\n",
    "        * Can analyze structures such as vertices, edges, faces, etc.\n",
    "\n",
    "* Polytope (Bounded Cone)"
   ]
  },
  {
   "cell_type": "markdown",
   "metadata": {},
   "source": [
    "* Positive semidefinite cone (PSD cone)\n",
    "    A positive semidefinite cone is the set $\\{X \\in S^n \\ | \\ X \\succeq 0\\}$."
   ]
  },
  {
   "cell_type": "markdown",
   "metadata": {},
   "source": [
    "## Operations that preserve convexity"
   ]
  },
  {
   "cell_type": "markdown",
   "metadata": {},
   "source": [
    "* Intersection\n",
    "* Affine functions\n",
    "* Perspective functions\n",
    "* linear-fractional functions"
   ]
  },
  {
   "cell_type": "markdown",
   "metadata": {},
   "source": [
    "* Intersection   \n",
    "    If $C_i$ is convex for $i = 1, \\ldots, m$, then $\\cap_{i=1}^m C_i$ is convex."
   ]
  },
  {
   "cell_type": "markdown",
   "metadata": {},
   "source": [
    "* Affine Function   \n",
    "    If $f: \\mathbb{R}^n \\rightarrow \\mathbb{R}^m$ is affine and $C$ is convex, then $f(C) = \\{f(x) \\ | \\ x \\in C\\}$ is convex."
   ]
  },
  {
   "cell_type": "markdown",
   "metadata": {},
   "source": []
  }
 ],
 "metadata": {
  "language_info": {
   "name": "python"
  }
 },
 "nbformat": 4,
 "nbformat_minor": 2
}
